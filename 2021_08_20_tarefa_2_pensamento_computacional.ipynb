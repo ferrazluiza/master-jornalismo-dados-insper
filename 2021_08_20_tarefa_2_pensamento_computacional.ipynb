{
  "nbformat": 4,
  "nbformat_minor": 0,
  "metadata": {
    "colab": {
      "name": "tarefa_aula_2.ipynb",
      "provenance": [],
      "collapsed_sections": []
    },
    "kernelspec": {
      "display_name": "Python 3",
      "name": "python3"
    },
    "language_info": {
      "name": "python"
    }
  },
  "cells": [
    {
      "cell_type": "markdown",
      "metadata": {
        "id": "zxLUrGVbG_Mq"
      },
      "source": [
        "### **CÓDIGO PRONTO**\n",
        "\n"
      ]
    },
    {
      "cell_type": "code",
      "metadata": {
        "colab": {
          "base_uri": "https://localhost:8080/"
        },
        "id": "hEv22dtlG9rS",
        "outputId": "df647f99-3714-4423-d9c5-48a3b6f4f1ce"
      },
      "source": [
        "pontos = 0             # definimos que a contagem de pontos começa no zero\n",
        "print(\"E aí, você sabe como chamar uma pessoa que não se identifica \\ncom nenhum dos dois gêneros, alguém que se relaciona com outra \\npessoa do mesmo sexo ou mesmo como se referir ao restante \\ndas pessoas que fazem parte da sigla LGBTQI+? \\n\\nVamos testar! Em cada pergunta, escolha a opção \\ncorresponde à resposta correta e escreva a letra no local indicado.\")\n",
        "print()\n",
        "print(\"1. Como se chama o procedimento médico em que as características genitais \\nde nascença de uma pessoa são modificadas para as que correspondem ao gênero \\nà que este paciente se reconhece socialmente?\")\n",
        "print(\"a) redefinição sexual ou de gênero\")\n",
        "print(\"b) cirurgia de resignação sexual\")\n",
        "print(\"c) cirurgia de redesignação sexual\")\n",
        "print(\"d) mudança de sexo\")\n",
        "opcao_1 = input(\"Digite a letra correta: \")\n",
        "if opcao_1.lower() == \"c\":\n",
        "  pontos += 1\n",
        "print(\"\")\n",
        "print(\"2. O termo “não-binário” se refere à:\")\n",
        "print(\"a) pessoas transgêneras\")\n",
        "print(\"b) pessoas assexuadas\")\n",
        "print(\"c) pessoas que não se identificam, necessariamente, como “homens” ou “mulheres”\")\n",
        "print(\"d) pessoas sem identidade de gênero\")\n",
        "opcao_2 = input(\"Digite a letra correta: \")\n",
        "if opcao_2.lower() == \"c\":\n",
        "  pontos += 1\n",
        "print(\"\")\n",
        "print(\"3. Pessoas que nascem com características genéticas de natureza \\ntanto feminina quanto masculina são atualmente chamadas de:\")\n",
        "print(\"a) intersexuais\")\n",
        "print(\"b) pansexuais\")\n",
        "print(\"c) transgêneros\")\n",
        "print(\"d) hermafroditas\")\n",
        "opcao_3 = input(\"Digite a letra correta: \")\n",
        "if opcao_3.lower() == \"c\":\n",
        "  pontos += 1\n",
        "print(\"\")\n",
        "print(\"4. O termo “pink money” ou “dinheiro rosa” está  associado, no mundo contemporâneo, à(ao):\")\n",
        "print(\"a) recursos extraídos de eventos internacionais que levam a bandeira LGBTQIA +\")\n",
        "print(\"b) crescimento de influencers digitais de beleza\")\n",
        "print(\"c) fenômenos da arte LGBTQIA +, como Pabllo Vittar e Gloria Groove\")\n",
        "print(\"d) indústria de produtos e serviços voltados para o público LGBTQIA +\")\n",
        "opcao_4 = input(\"Digite a letra correta: \")\n",
        "if opcao_4.lower() == \"d\":\n",
        "  pontos += 1\n",
        "print(\"\")\n",
        "print(\"5. Uma pessoa diz se reconhecer como “mulher” e “homossexual”. \\nEstes dois termos se referem, respectivamente, à:\")\n",
        "print(\"a) seu sexo e gênero\")\n",
        "print(\"b) seu sexo e orientação sexual\")\n",
        "print(\"c) sua identidade de gênero e sua orientação sexual\")\n",
        "print(\"d) sua identidade de gênero e sua preferência sexual\")\n",
        "opcao_5 = input(\"Digite a letra correta: \")\n",
        "if opcao_5.lower() == \"c\":\n",
        "  pontos += 1\n",
        "print()\n",
        "print(f\"Você acertou {pontos} perguntas\")\n",
        "if pontos == 5:\n",
        "  print(\"Uau! Alguém te dá um bolo e uma vela, porque você tá de parabéns. Acertou T-O-D-A-S!\")\n",
        "elif pontos < 3 and pontos > 0:\n",
        "  print(\"Foi menos da metade, mas você já sabe umas coisinhas! Que tal procurar mais sobre o assunto para saber mais?\")\n",
        "elif pontos == 0:\n",
        "  print (\"Putz. Fica tranquilo, pelo menos serve como estímulo para que você procure mais sobre o assunto!\")\n",
        "elif pontos >= 3 and pontos < 5:\n",
        "  print(\"Poxa! Quase lá, você acertou mais da metade das opções. Faltou muito pouco\")\n"
      ],
      "execution_count": null,
      "outputs": [
        {
          "output_type": "stream",
          "text": [
            "E aí, você sabe como chamar uma pessoa que não se identifica \n",
            "com nenhum dos dois gêneros, alguém que se relaciona com outra \n",
            "pessoa do mesmo sexo ou mesmo como se referir ao restante \n",
            "das pessoas que fazem parte da sigla LGBTQI+? \n",
            "\n",
            "Vamos testar! Em cada pergunta, escolha a opção \n",
            "corresponde à resposta correta e escreva a letra no local indicado.\n",
            "\n",
            "1. Como se chama o procedimento médico em que as características genitais \n",
            "de nascença de uma pessoa são modificadas para as que correspondem ao gênero \n",
            "à que este paciente se reconhece socialmente?\n",
            "a) redefinição sexual ou de gênero\n",
            "b) cirurgia de resignação sexual\n",
            "c) cirurgia de redesignação sexual\n",
            "d) mudança de sexo\n",
            "Digite a letra correta: c\n",
            "\n",
            "2. O termo “não-binário” se refere à:\n",
            "a) pessoas transgêneras\n",
            "b) pessoas assexuadas\n",
            "c) pessoas que não se identificam, necessariamente, como “homens” ou “mulheres”\n",
            "d) pessoas sem identidade de gênero\n",
            "Digite a letra correta: c\n",
            "\n",
            "3. Pessoas que nascem com características genéticas de natureza \n",
            "tanto feminina quanto masculina são atualmente chamadas de:\n",
            "a) intersexuais\n",
            "b) pansexuais\n",
            "c) transgêneros\n",
            "d) hermafroditas\n",
            "Digite a letra correta: c\n",
            "\n",
            "4. O termo “pink money” ou “dinheiro rosa” está  associado, no mundo contemporâneo, à(ao):\n",
            "a) recursos extraídos de eventos internacionais que levam a bandeira LGBTQIA +\n",
            "b) crescimento de influencers digitais de beleza\n",
            "c) fenômenos da arte LGBTQIA +, como Pabllo Vittar e Gloria Groove\n",
            "d) indústria de produtos e serviços voltados para o público LGBTQIA +\n",
            "Digite a letra correta: d\n",
            "\n",
            "5. Uma pessoa diz se reconhecer como “mulher” e “homossexual”. \n",
            "Estes dois termos se referem, respectivamente, à:\n",
            "a) seu sexo e gênero\n",
            "b) seu sexo e orientação sexual\n",
            "c) sua identidade de gênero e sua orientação sexual\n",
            "d) sua identidade de gênero e sua preferência sexual\n",
            "Digite a letra correta: c\n",
            "\n",
            "Você acertou 5 perguntas\n",
            "Uau! Alguém te dá um bolo e uma vela, porque você tá de parabéns. Acertou T-O-D-A-S!\n"
          ],
          "name": "stdout"
        }
      ]
    },
    {
      "cell_type": "markdown",
      "metadata": {
        "id": "c2DaBSUyHn35"
      },
      "source": [
        "-"
      ]
    },
    {
      "cell_type": "markdown",
      "metadata": {
        "id": "16bhJAG6Hi36"
      },
      "source": [
        "-"
      ]
    },
    {
      "cell_type": "markdown",
      "metadata": {
        "id": "6ajTrk5VHIow"
      },
      "source": [
        "## **CÓDIGO FEITO EM ETAPAS**\n",
        "\n"
      ]
    },
    {
      "cell_type": "code",
      "metadata": {
        "colab": {
          "base_uri": "https://localhost:8080/"
        },
        "id": "2qhX6g_-Fgsm",
        "outputId": "bff22f90-d41b-4d5f-9c95-6c10cc9cc52b"
      },
      "source": [
        "pontos = 0             # definimos que a contagem de pontos começa no zero\n",
        "print(\"E aí, você sabe como chamar uma pessoa que não se identifica \\ncom nenhum dos dois gêneros, alguém que se relaciona com outra \\npessoa do mesmo sexo ou mesmo como se referir ao restante \\ndas pessoas que fazem parte da sigla LGBTQI+? \\n\\nVamos testar! Em cada pergunta, escolha a opção \\ncorresponde à resposta correta e escreva a letra no local indicado.\")\n",
        "print(\"1. Pergunta\")\n",
        "print(\"a) opção 1\")\n",
        "print(\"b) opção 2\")\n",
        "print(\"c) opção 3\")\n",
        "print(\"d) opção 4\")\n",
        "opcao_1 = input(\"Digite a letra correta: \")\n",
        "if opcao_1.lower() == \"a\":\n",
        "  pontos += 1\n"
      ],
      "execution_count": null,
      "outputs": [
        {
          "name": "stdout",
          "output_type": "stream",
          "text": [
            "E aí, você sabe como chamar uma pessoa que não se identifica \n",
            "com nenhum dos dois gêneros, alguém que se relaciona com outra \n",
            "pessoa do mesmo sexo ou mesmo como se referir ao restante \n",
            "das pessoas que fazem parte da sigla LGBTQI+? \n",
            "\n",
            "Vamos testar! Em cada pergunta, escolha a opção \n",
            "corresponde à resposta correta e escreva a letra no local indicado.\n",
            "1. Pergunta\n",
            "a) opção 1\n",
            "b) opção 2\n",
            "c) opção 3\n",
            "d) opção 4\n",
            "Digite a letra correta: A\n"
          ]
        }
      ]
    },
    {
      "cell_type": "code",
      "metadata": {
        "colab": {
          "base_uri": "https://localhost:8080/"
        },
        "id": "4zJA5Ef-HfV9",
        "outputId": "0db5213d-e741-45c9-c1f8-30bafafba8d5"
      },
      "source": [
        "print(\"\")\n",
        "print(\"2. Pergunta\")\n",
        "print(\"a) opção 1\")\n",
        "print(\"b) opção 2\")\n",
        "print(\"c) opção 3\")\n",
        "print(\"d) opção 4\")\n",
        "opcao_2 = input(\"Digite a letra correta: \")\n",
        "if opcao_2.lower() == \"a\":\n",
        "  pontos += 1\n"
      ],
      "execution_count": null,
      "outputs": [
        {
          "name": "stdout",
          "output_type": "stream",
          "text": [
            "\n",
            "2. Pergunta\n",
            "a) opção 1\n",
            "b) opção 2\n",
            "c) opção 3\n",
            "d) opção 4\n",
            "Digite a letra correta: b\n"
          ]
        }
      ]
    },
    {
      "cell_type": "code",
      "metadata": {
        "colab": {
          "base_uri": "https://localhost:8080/"
        },
        "id": "tDwnYF8hKnE_",
        "outputId": "a5375c8c-183c-40da-8056-c3a339634074"
      },
      "source": [
        "print(\"\")\n",
        "print(\"3. Pergunta\")\n",
        "print(\"a) opção 1\")\n",
        "print(\"b) opção 2\")\n",
        "print(\"c) opção 3\")\n",
        "print(\"d) opção 4\")\n",
        "opcao_3 = input(\"Digite a letra correta: \")\n",
        "if opcao_3.lower() == \"a\":\n",
        "  pontos += 1\n"
      ],
      "execution_count": null,
      "outputs": [
        {
          "name": "stdout",
          "output_type": "stream",
          "text": [
            "\n",
            "3. Pergunta\n",
            "a) opção 1\n",
            "b) opção 2\n",
            "c) opção 3\n",
            "d) opção 4\n",
            "Digite a letra correta: D\n"
          ]
        }
      ]
    },
    {
      "cell_type": "code",
      "metadata": {
        "colab": {
          "base_uri": "https://localhost:8080/"
        },
        "id": "_GHadUHgKvPe",
        "outputId": "43bf279c-d91d-4481-d586-809d5ff3d3be"
      },
      "source": [
        "print(\"\")\n",
        "print(\"4. Pergunta\")\n",
        "print(\"a) opção 1\")\n",
        "print(\"b) opção 2\")\n",
        "print(\"c) opção 3\")\n",
        "print(\"d) opção 4\")\n",
        "opcao_4 = input(\"Digite a letra correta: \")\n",
        "if opcao_4.lower() == \"a\":\n",
        "  pontos += 1"
      ],
      "execution_count": null,
      "outputs": [
        {
          "name": "stdout",
          "output_type": "stream",
          "text": [
            "\n",
            "4. Pergunta\n",
            "a) opção 1\n",
            "b) opção 2\n",
            "c) opção 3\n",
            "d) opção 4\n",
            "Digite a letra correta: a\n"
          ]
        }
      ]
    },
    {
      "cell_type": "code",
      "metadata": {
        "colab": {
          "base_uri": "https://localhost:8080/"
        },
        "id": "LIFcM3DqKzum",
        "outputId": "4d147ca6-b3ac-4ba5-8952-e7abc1d5c6ad"
      },
      "source": [
        "print(\"\")\n",
        "print(\"5. Pergunta\")\n",
        "print(\"a) opção 1\")\n",
        "print(\"b) opção 2\")\n",
        "print(\"c) opção 3\")\n",
        "print(\"d) opção 4\")\n",
        "opcao_5 = input(\"Digite a letra correta: \")\n",
        "if opcao_5.lower() == \"a\":\n",
        "  pontos += 1\n",
        "print()\n",
        "print(f\"Você acertou {pontos} perguntas\")"
      ],
      "execution_count": null,
      "outputs": [
        {
          "name": "stdout",
          "output_type": "stream",
          "text": [
            "\n",
            "5. Pergunta\n",
            "a) opção 1\n",
            "b) opção 2\n",
            "c) opção 3\n",
            "d) opção 4\n",
            "Digite a letra correta: a\n",
            "\n",
            "Você acertou 3 perguntas\n"
          ]
        }
      ]
    },
    {
      "cell_type": "code",
      "metadata": {
        "colab": {
          "base_uri": "https://localhost:8080/"
        },
        "id": "CtaILxXtAJoU",
        "outputId": "0b1c19e5-fffa-4c60-e375-2dbe27a8138c"
      },
      "source": [
        "if pontos == 5:\n",
        "  print(\"recado 1, acertou todas\")\n",
        "elif pontos < 3 and pontos > 0:\n",
        "  print(\"acertou menos da metade\")\n",
        "elif pontos == 0:\n",
        "  print (\"errou todas\")\n",
        "elif pontos >= 3 and pontos < 5:\n",
        "  print(\"acertou quase todas\")\n",
        "\n"
      ],
      "execution_count": null,
      "outputs": [
        {
          "name": "stdout",
          "output_type": "stream",
          "text": [
            "acertou quase todas\n"
          ]
        }
      ]
    },
    {
      "cell_type": "code",
      "metadata": {
        "id": "K5l3QnK68JdG"
      },
      "source": [
        ""
      ],
      "execution_count": null,
      "outputs": []
    }
  ]
}