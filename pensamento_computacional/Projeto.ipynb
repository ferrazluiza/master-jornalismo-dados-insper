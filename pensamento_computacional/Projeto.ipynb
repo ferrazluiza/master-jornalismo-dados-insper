{
  "nbformat": 4,
  "nbformat_minor": 0,
  "metadata": {
    "colab": {
      "name": "pf_pensamento_computacional_apresentacao.ipynb",
      "provenance": []
    },
    "kernelspec": {
      "name": "python3",
      "display_name": "Python 3"
    },
    "language_info": {
      "name": "python"
    }
  },
  "cells": [
    {
      "cell_type": "markdown",
      "metadata": {
        "id": "Gpxlswv7F8Kh"
      },
      "source": [
        "# Pegando as últimas notícias de um site jornalístico\n",
        "---\n",
        "\n"
      ]
    },
    {
      "cell_type": "markdown",
      "metadata": {
        "id": "CUKT_K7NGOi7"
      },
      "source": [
        "Este código foi criado para analisar um site em específico. A ideia é que o computador cheque o site e me envie, por e-mail, as 6 primeiras matérias. Isso é possível porque eu analisei previamente o HTML do site e porque utilizo ele no meu dia a dia, então sei aonde os links que eu preciso estão.\n",
        "\n",
        "É possível utilizá-lo para outros sites, mas com alguma adaptação, já que cada HTML é de um jeito.\n",
        "\n",
        "O objetivo final dele é automatizar a ronda em sites de notícia. Mas como ele foi feito para o projeto final da disciplina de Pensamento Computacional (que nos ensinou o básico de programação), ainda não tem os componentes de automação necessários para que ele atue de maneira mais independente e automatizada."
      ]
    },
    {
      "cell_type": "code",
      "metadata": {
        "id": "CceSk3pvjmHe"
      },
      "source": [
        "import requests # biblioteca para conseguir pegar a url\n",
        "from bs4 import BeautifulSoup as bs # biblioteca para pegar informações do HTML (essa biblioteca é bem útil para fazer web scrapping)"
      ],
      "execution_count": null,
      "outputs": []
    },
    {
      "cell_type": "code",
      "metadata": {
        "id": "LIJWPwuxjnpF"
      },
      "source": [
        "url = 'https://braziljournal.com/'\n",
        "r = requests.get(url)\n",
        "soup = bs(r.text, 'html.parser')"
      ],
      "execution_count": null,
      "outputs": []
    },
    {
      "cell_type": "code",
      "metadata": {
        "id": "yH9pfmy1e8-5"
      },
      "source": [
        "# primeiro, criamos uma lista vazia.\n",
        "# será nessa lista onde iremos guardar os dados raspados\n",
        "dados = []\n",
        "\n",
        "# agora começa o código para pegar as informações que queremos do site escolhido\n",
        "\n",
        "main = soup.find('main', {'class': 'wrapbrj-content'}) # indicamos aonde está o conteúdo desejado\n",
        "links = main.find_all('a')                             # pedimos para que o computador busque tudo o que estiver na tag 'a' (neste caso, eu já sei que os links ficam nessa tag)\n",
        "for i in links:                                        # vamos fazer um loop para separar o que nos interessa\n",
        "  link = i.attrs['href']                               # primeiro, extraímos a URL\n",
        "  text = i.text                                        # depois, o texto que está junto com o link\n",
        "  if 'tag' not in link:                                # mas como eu sei que no caso em questão existem links para tags do site, eu preciso excluí-las do meu código\n",
        "    if text != '':                                     # e eu tampouco quero links que não tenham um texto acompanhando, porque isso significa que não são uma matéria com título\n",
        "      obj = {'texto': text, 'link': link}              # e aí eu vou pegar tudo isso que ele encontrou e reunir em um dicionário para colocar naquela lista\n",
        "      if len(dados) < 6:                               # e caso a minha lista tenha menos de 6 itens, eu vou pedir que ele acrescente mais 1 (porque eu já sei que eu só preciso dos 6 primeiros links daquele site)\n",
        "        dados.append(obj)                              "
      ],
      "execution_count": null,
      "outputs": []
    },
    {
      "cell_type": "code",
      "metadata": {
        "id": "Vxm3nK3-RP0P"
      },
      "source": [
        "#para ver se deu tudo certo mesmo, eu vou pedir para ver o que tem dentro daquela minha lista\n",
        "\n",
        "dados"
      ],
      "execution_count": null,
      "outputs": []
    },
    {
      "cell_type": "markdown",
      "metadata": {
        "id": "YxE5aKtqRPhi"
      },
      "source": [
        "Mas, agora, eu preciso enviar o que eu encontrei por e-mail, então vou usar um módulo do Python específico para isso:\n",
        "\n",
        "**Simple Mail Transfer Protocol**"
      ]
    },
    {
      "cell_type": "code",
      "metadata": {
        "id": "TAkXyQ4CjnIG"
      },
      "source": [
        "from smtplib import SMTP\n",
        "\n",
        "# vamos criar variáveis para guardar algumas informações e não precisar ficar repetindo elas\n",
        "\n",
        "email = 'email aqui' # nessa parte, você vai escrever o e-mail de onde vai enviar\n",
        "senha = 'senha aqui' # e, aqui, a senha de acesso dele\n",
        "\n",
        "# ATENÇÃO: não esqueça de apagar ao menos a senha depois que parar de usar o código\n",
        "\n",
        "server  = smtplib.SMTP('smtp.gmail.com', 587) # aqui, dizemos que queremos acessar o servidor do Gmail, de onde é a minha conta\n",
        "escrever_senha = input('Senha de %s: '%email) # e aqui, pedimos para o programa solicitar do usuário a senha, mas acredito que seja dispensável\n",
        "server.starttls()\n",
        "server.login(email, senha) # aqui, ele faz o login\n",
        "print('Login em %s feito com sucesso! '%email) # e, só pra saber se deu certo até aqui, pedimos para ele exibir uma mensagem de sucesso\n",
        "\n",
        "msg = \"From: %s\\r\\nTo: %s\\r\\n\\r\\n%s\"%(email, email, str(dados)) # aqui dizemos o que conterá a mensagem\n",
        "server.sendmail(email, email_destinatario, msg.encode('utf-8')) \n",
        "server.quit() # e aqui, pedimos para ele deslogar quando finalizar\n",
        "\n",
        "# um ponto importante:\n",
        "# antes de enviar o e-mail, é preciso autorizar o acesso do programa à sua conta no Google (se for gmail)\n",
        "# neste link: https://myaccount.google.com/lesssecureapps?pli=1&rapt=AEjHL4P_2rPDpmXmqaYUHwMpkRoa9zaxTLV5_GGhUs5UQbFwT3v-6J8xykmWCuoYLc_1Q02auk1_kF_N4UylRnKW2uR0AHYHHQ\n",
        "# não esqueça de desativar quando parar de usar o código :)"
      ],
      "execution_count": null,
      "outputs": []
    }
  ]
}